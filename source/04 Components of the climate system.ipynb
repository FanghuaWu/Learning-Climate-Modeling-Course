{
 "cells": [
  {
   "cell_type": "markdown",
   "metadata": {},
   "source": [
    "# 第4课：气候系统分量"
   ]
  },
  {
   "cell_type": "markdown",
   "metadata": {},
   "source": [
    "## 1. 气候系统及其相互作用\n",
    "\n",
    "**定义“气候系统”：**\n",
    "\n",
    "根据IPCC AR5报告：\n",
    "\n",
    "> **气候系统：**“气候系统是由大气圈，水圈，冰冻圈，岩石圈和生物圈五个主要组成部分组成的高度复杂的系统，以及它们之间的相互作用。气候系统在其自身内部动力的影响下以及由于火山喷发，太阳变化和人为强迫等外部因素，如大气和土地利用变化等改变构成随时间的变化。“\n",
    "\n",
    "进一步定义：\n",
    "\n",
    "- **大气圈**：\n",
    "\n",
    "> 地球周围的气体包围。\n",
    "\n",
    "- **水圈**：\n",
    "\n",
    "> 气候系统的组成部分，包括液态水和地下水，如海洋，河流，湖泊，地下水等。\n",
    "\n",
    "- **生物圈**（陆地和海洋）：\n",
    "\n",
    "> 包括所有生态系统和生物体在内的地球系统的一部分，包括衍生的死有机物质，如凋落物，土壤有机质和海洋碎屑。\n",
    "\n",
    "- **冰冻圈**：\n",
    "\n",
    "> 地球和海洋表面以上和以下水以固体形式存在的所有地区，包括海冰，湖冰，河冰，积雪，冰川和冰盖以及冻土（包括永久冻土）。\n",
    "\n",
    "- **岩石圈**：\n",
    "\n",
    "> 固体地球的上层，大陆和海洋，包括所有的地壳岩石和冷，主要是最上层地幔的弹性部分。\n",
    "\n",
    "**让我们思考为什么我们需要在我们的模式中包括这些所有“圈层”。**\n",
    "\n",
    "这里有来自IPCC AR5第一工作组报告两张漂亮的图："
   ]
  },
  {
   "cell_type": "code",
   "execution_count": 1,
   "metadata": {
    "scrolled": true
   },
   "outputs": [
    {
     "data": {
      "text/html": [
       "<img src=\"http://www.climatechange2013.org/images/figures/WGI_AR5_Fig1-1.jpg\" width=\"1000\"/>"
      ],
      "text/plain": [
       "<IPython.core.display.Image object>"
      ]
     },
     "execution_count": 1,
     "metadata": {},
     "output_type": "execute_result"
    }
   ],
   "source": [
    "from IPython.display import Image\n",
    "Image(url='http://www.climatechange2013.org/images/figures/WGI_AR5_Fig1-1.jpg', width=1000)"
   ]
  },
  {
   "cell_type": "markdown",
   "metadata": {},
   "source": [
    "> 图1.1 |气候变化的主要驱动因素。进入的太阳短波辐射（SWR）和出射的长波辐射（OLR）之间的辐射平衡受到全球气候“驱动因素”的影响。太阳能输出的自然波动（太阳活动周期）可以引起能量平衡的变化（通过波动的SWR数量）（2.3节）。人类活动改变了大气化学反应中涉及的气体和气溶胶的排放，从而导致O3和气溶胶量的改变（第2.2节）。 O3和气溶胶颗粒吸收，散射和反射SWR，改变能量平衡。一些气溶胶起着云凝结核的作用，改变了云滴的性质，并可能影响降水（第7.4节）。由于云与SWR和LWR的相互作用很大，所以云的性质的微小变化对辐射预算有重要影响（第7.4节）。温室气体（例如CO2，CH4，N2O，O3，CFCs）和大气溶胶（> 2.5μm）的人为变化通过吸收输出的LWR并在较低的温度下重新释放更少的能量来改变输出的LWR的量（第2.2节）。地表反照率因植被或陆地表面特性，雪或冰盖和海洋颜色的变化而改变（2.3节）。这些变化是由自然的季节和昼夜变化（如积雪）以及人为影响（例如植被类型的变化）所驱动的（Forster等，2007）。"
   ]
  },
  {
   "cell_type": "code",
   "execution_count": 2,
   "metadata": {
    "scrolled": true
   },
   "outputs": [
    {
     "data": {
      "text/html": [
       "<img src=\"http://www.climatechange2013.org/images/figures/WGI_AR5_Fig1-2.jpg\" width=\"1000\"/>"
      ],
      "text/plain": [
       "<IPython.core.display.Image object>"
      ]
     },
     "execution_count": 2,
     "metadata": {},
     "output_type": "execute_result"
    }
   ],
   "source": [
    "Image(url='http://www.climatechange2013.org/images/figures/WGI_AR5_Fig1-2.jpg', width=1000)"
   ]
  },
  {
   "cell_type": "markdown",
   "metadata": {},
   "source": [
    "> 图1.2 |气候反馈和时间表。与二氧化碳增加和温度升高有关的气候反馈包括负反馈（ - ），例如LWR，递减率（见附件三的术语表）以及海气碳交换和正反馈（+），如水蒸气和雪/冰反照率反馈。一些反馈可能是正反馈的或负反馈的（±）：云，海洋环流变化，空气 - 二氧化碳交换，以及自然系统中非温室气体和气溶胶的排放。在较小的盒子中，各种反馈的时间尺度差别很大。"
   ]
  },
  {
   "cell_type": "markdown",
   "metadata": {},
   "source": [
    "**关键是所有这些过程最终影响行星能量收支。**\n",
    "\n",
    "让我们讨论下**时间尺度**。\n",
    "\n",
    "请注意，IPCC的数字只有数百年 - 海洋深层循环 - 但气候系统中有更多的时间尺度。例如冰盖的生长和衰减，化学风化，大陆漂移等地质过程。\n",
    "\n",
    "因此，在模型中包含哪些过程的选择应该以**感兴趣的时间尺度为指导**。例如，IPCC过程主要关注世纪时间尺度，因为这是人类特别关心的问题。所以我们不倾向于包括冰盖和地质反馈 - 虽然耦合的冰盖模拟变得更加重要。"
   ]
  },
  {
   "cell_type": "markdown",
   "metadata": {},
   "source": [
    "## 2. 模拟与参数化\n",
    "\n",
    "最好用一个具体的例子来讨论这个问题：**极向热传递**\n",
    "\n",
    "我们知道大气从温暖的低纬度地区向寒冷的高纬度地区转移了大量的能量 - 实际上大约有5PW= 10$^{15}$W。这种能量的传输主要发生在瞬变天气系统（气旋和反气旋），其中温暖湿润的气流倾向于向极地方向移动，寒冷干燥的空气趋于向赤道移动。 （我们稍后会在这个学期更仔细地看这个）\n",
    "\n",
    "几乎每个气候模型都需要考虑这种运输及其对任何气候模式下能量收支的影响（除非我们只处理全球平均水平）。\n",
    "\n",
    "那么我们该怎么做呢？"
   ]
  },
  {
   "cell_type": "markdown",
   "metadata": {},
   "source": [
    "### 参数化：\n",
    "\n",
    "用经验关系来表示许多天气系统的净效应，如平均温度梯度下降\n",
    "\n",
    "$T(y)$是区域平均温度，$y$是纬度\n",
    "\n",
    "运输= $KdT/dy$\n",
    "\n",
    "使用观察到的运输为$K$选择适当的值\n",
    "\n",
    "- Pro：易于实现，易于理解的结果\n",
    "- Con：$K$的价值如何随气候变化而变化？我们无从知晓，不得不作出假设。"
   ]
  },
  {
   "cell_type": "markdown",
   "metadata": {},
   "source": [
    "### 模拟：\n",
    "\n",
    "在表征天气尺度天气系统的增长和衰减的足够空间分辨率的网格上求解时间相关运动方程，。\n",
    "\n",
    "- Pro：模型基于真实的物理原理（牛顿运动定律，质量和能量守恒）。因此，在气候条件变化的情况下，它更有可能保持有效。\n",
    "- Con：需要大量的计算机资源。即使我们真的只想要气候（天气统计），也必须模拟天气！\n",
    "\n",
    "从本质上讲，模拟涉及表示支配过程的基本规则（至少某些方面）。**有一连串因果关系将输入与输出联系起来。**\n",
    "\n",
    "参数化涉及对**流程的统计特性进行假设**- 所以我们可以计算输入的输出的一些相关的统计特性，而不需要明确地模拟实际事件。"
   ]
  },
  {
   "cell_type": "markdown",
   "metadata": {},
   "source": [
    "## 3. GCM介绍"
   ]
  },
  {
   "cell_type": "markdown",
   "metadata": {},
   "source": [
    "### GCM:\n",
    "\n",
    "取决于你问的是谁，或：\n",
    "\n",
    "- 一般环流模式（原始）\n",
    "- 全球气候模式（现在比较常见）\n",
    "\n",
    "气候模拟入门读物阐述了GCM发展的历史：\n",
    "\n",
    "- 开始作为大气模型和分离海洋模型\n",
    "- 越来越多的过程正在耦合在一起。\n",
    "- 这导致了在世界上一些最大的计算机集群上运行的令人难以置信的复杂的软件。"
   ]
  },
  {
   "cell_type": "code",
   "execution_count": 3,
   "metadata": {
    "scrolled": true
   },
   "outputs": [
    {
     "data": {
      "text/html": [
       "<img src=\"http://www.climatechange2013.org/images/figures/WGI_AR5_Fig1-13.jpg\" width=\"1000\"/>"
      ],
      "text/plain": [
       "<IPython.core.display.Image object>"
      ]
     },
     "execution_count": 3,
     "metadata": {},
     "output_type": "execute_result"
    }
   ],
   "source": [
    "Image(url='http://www.climatechange2013.org/images/figures/WGI_AR5_Fig1-13.jpg', width=1000)"
   ]
  },
  {
   "cell_type": "markdown",
   "metadata": {},
   "source": [
    "> 图1.13 |过去35年气候模式的发展表明，随着时间的推移，不同的组成部分如何与综合气候模式相结合。在每个方面（例如，包括大范围的大气过程的大气），过程的复杂性和范围随着时间的推移而增加（由生长气瓶图示）。请注意，在同一时间，水平和垂直分辨率已经大大增加，例如，对于T21L9（大约500公里水平分辨率和9个垂直层）在20世纪70年代至T95L95（大约100公里水平分辨率和95个垂直层）目前，至少有三个独立的试验可以考虑作为标准。"
   ]
  },
  {
   "cell_type": "code",
   "execution_count": 4,
   "metadata": {
    "scrolled": true
   },
   "outputs": [
    {
     "data": {
      "text/html": [
       "<img src=\"http://www.climatechange2013.org/images/figures/WGI_AR5_Fig1-14.jpg\" width=\"1000\"/>"
      ],
      "text/plain": [
       "<IPython.core.display.Image object>"
      ]
     },
     "execution_count": 4,
     "metadata": {},
     "output_type": "execute_result"
    }
   ],
   "source": [
    "Image(url='http://www.climatechange2013.org/images/figures/WGI_AR5_Fig1-14.jpg', width=1000)"
   ]
  },
  {
   "cell_type": "markdown",
   "metadata": {},
   "source": [
    "> 图1.14 |目前正在测试的高分辨率模型和高分辨率模型中考虑的水平分辨率：（a）欧洲地形分辨率为87.5×87.5 km; （b）与（a）相同，但分辨率为30.0×30.0公里。"
   ]
  },
  {
   "cell_type": "markdown",
   "metadata": {},
   "source": [
    "所有这些复杂性的一个目标是做**更多的模拟**和**更少的参数化**，以便更准确地预测气候变化。\n",
    "\n",
    "就我们对行星能量收支的简单看法而言，**我们试图正确表示净气候反馈$\\lambda$**，从而得到正确的气候敏感度。\n",
    "理想情况下，这意味着基于物理和化学规律的模型。\n",
    "\n",
    "然而，它并不总是这样工作。在很多情况下，我们知道反馈是自然而然的，但是我们不能用最基本的原则来表达。\n",
    "陆地过程就是一个很好的例子。\n",
    "\n",
    "土地和大气之间的能源，水和碳交换是生物媒介。我们必须（在一定程度上）依靠经验关系。有点像经济建模。\n",
    "\n",
    "我们还必须处理跨空间尺度的相互作用。\n",
    "\n",
    "例如。积云对流和垂直运输的热量和水汽"
   ]
  },
  {
   "cell_type": "markdown",
   "metadata": {},
   "source": [
    "## 4.  Community Earth System Model (CESM)\n",
    "\n",
    "### 它是什么？\n",
    "\n",
    "- CESM是作为IPCC过程的一部分使用的一些复杂耦合的GCM之一。\n",
    "- 由NCAR（Boulder CO）一群气候科学家和软件工程师开发和维护。\n",
    "- “社区”是指这样一个事实，即代码是开源的，有许多用户贡献了新的代码。\n",
    "\n",
    "我在自己的研究中使用CESM。我们将在这个课程中使用CESM。每个人都应该访问该网站并了解它。\n",
    "\n",
    "http://www2.cesm.ucar.edu"
   ]
  },
  {
   "cell_type": "markdown",
   "metadata": {},
   "source": [
    "### CESM的关键分量：（或任何等价的当代GCM）\n",
    "\n",
    "- 大气模式，AGCM\n",
    "- 海洋模式，OGCM\n",
    "- 陆面模式\n",
    "- 海冰模式\n",
    "\n",
    "该软件有点模块化，所以不同的分量模式可以结合在一起，这取决于当前科学问题的性质和可用的计算机能力。\n",
    "\n",
    "例如。我们可以在只有“大气”模态下运行模式。陆地和海洋的表面状况将由观测规定。**通过这种方式来学习气候变化是很困难的。**\n",
    "\n",
    "为什么？\n",
    "\n",
    "由于**能量不平衡，表面温度不能改变！**\n",
    "\n",
    "即根据我们的工作定义，它不是一个气候模型。\n",
    "\n",
    "假设我们想用我们的模型来估计均衡的气候敏感性。回想$\\Delta T_{2\\times CO_{2}}$是一旦行星能量收支调整回到平衡状态，我们从大气二氧化碳加倍中获得的增暖。\n",
    "\n",
    "在这个课程中，我们将主要使用所谓的**板块海洋模式**。\n",
    "\n",
    "你在作业练习中已经介绍了这个模式。\n",
    "\n",
    "关键是我们允许**海面温度变化**，但是我们修复（规定）洋流对能量输送的净效应。\n",
    "\n",
    "为什么这样做？\n",
    "\n",
    "因为整个海洋模型需要数千年才能达到平衡！\n",
    "\n",
    "我们为什么要相信板块海洋模式的结果呢？\n",
    "\n",
    "我们不应该！\n",
    "\n",
    "但是耦合模式的经验（意味着交互式海洋环流）表明，在$2\\times CO_{2}$下，环流不会发生根本性的变化。\n",
    "\n",
    "所以板块海洋模式给我们第一个很好地猜测气候敏感度。而且它可以做很多我们本无法做到的试验。"
   ]
  },
  {
   "cell_type": "markdown",
   "metadata": {},
   "source": [
    "## 5. 我们使用CESM的数值试验"
   ]
  },
  {
   "cell_type": "markdown",
   "metadata": {},
   "source": [
    "### 大气\n",
    "\n",
    "- 水平分辨率约2$^{\\circ}$纬度/经度\n",
    "- AGCM求解了基本方程：\n",
    "    - 动量守恒，质量，能量，水，状态方程\n",
    "- 在2$^{\\circ}$，我们可分辨**天气尺度的动态**\n",
    "    - 风暴轨道和旋风。\n",
    "- 我们不能分辨中尺度和更小尺度\n",
    "    - 雷暴，个别对流事件，云层\n",
    "- 这些都必须参数化。\n",
    "- 模式也求解了辐射传递方程。这考虑到了\n",
    "    - 大气的组成和不同气体的吸收特性\n",
    "    - 云的辐射效应。"
   ]
  },
  {
   "cell_type": "markdown",
   "metadata": {},
   "source": [
    "### 海冰\n",
    "\n",
    "- 1$^{\\circ}$ 分辨率。\n",
    "- 热动力（能量，水和盐度守恒）\n",
    "    - 决定结冰和融解\n",
    "- 动力学（动量方程）\n",
    "    - 决定海冰运动和形变\n",
    "- 复杂性！海冰是流体和固体的混合物。"
   ]
  },
  {
   "cell_type": "markdown",
   "metadata": {},
   "source": [
    "### 陆面模式\n",
    "\n",
    "- 与大气相同的分辨率\n",
    "- 根据规定的植被类型确定热，水，动量（摩擦）的表面通量。\n",
    "- 实际上不知道它是如何工作的！\n",
    "- 对于某人为这些项的项目挖掘的伟大话题。"
   ]
  },
  {
   "cell_type": "markdown",
   "metadata": {},
   "source": [
    "### 海洋\n",
    "\n",
    "- 与海冰相同的分辨率，1$^{\\circ}$ 。\n",
    "- 海洋表面温度的变化基于：\n",
    "    - 与大气的热量交换\n",
    "    - 规定的“q-通量”"
   ]
  },
  {
   "cell_type": "markdown",
   "metadata": {},
   "source": [
    "### 试验建立\n",
    "\n",
    "模式给定真实的大气成分，真实的太阳辐射等。\n",
    "\n",
    "我们进行一次**参考运行**以获得基线模拟，并取**数年平均**（因为模式具有内部变化 - 每年有点不同）\n",
    "\n",
    "然后我们改变一些东西，例如$2\\times CO_{2}$！\n",
    "\n",
    "让模式适应新的均衡，就像我们在玩具能量平衡模型中一样。\n",
    "\n",
    "一旦它接近新的平衡点，我们再运行几年来获得新的气候态。\n",
    "\n",
    "然后我们可以看看**扰动前后的气候态差异**。"
   ]
  },
  {
   "cell_type": "markdown",
   "metadata": {},
   "source": [
    "## 6. 两度的大气模式可以分辨什么？\n",
    "\n",
    "下面的动画显示了参考模拟中海平面压力的等值线。它基于数值模型的6小时输出。\n",
    "\n",
    "大气是用2$^{\\circ}$有限体积的动力学核心模拟的。"
   ]
  },
  {
   "cell_type": "code",
   "execution_count": 5,
   "metadata": {
    "scrolled": true
   },
   "outputs": [
    {
     "data": {
      "text/html": [
       "\n",
       "        <iframe\n",
       "            width=\"400\"\n",
       "            height=\"300\"\n",
       "            src=\"https://www.youtube.com/embed/As85L34fKYQ\"\n",
       "            frameborder=\"0\"\n",
       "            allowfullscreen\n",
       "        ></iframe>\n",
       "        "
      ],
      "text/plain": [
       "<IPython.lib.display.YouTubeVideo at 0x111f35750>"
      ]
     },
     "execution_count": 5,
     "metadata": {},
     "output_type": "execute_result"
    }
   ],
   "source": [
    "from IPython.display import YouTubeVideo\n",
    "YouTubeVideo('As85L34fKYQ')"
   ]
  },
  {
   "cell_type": "markdown",
   "metadata": {},
   "source": [
    "**讨论点**:\n",
    "\n",
    "多大程度表征了大气的真正环流？"
   ]
  },
  {
   "cell_type": "markdown",
   "metadata": {},
   "source": [
    "**引用信息**\n",
    "\n",
    "The figures above are reproduced from Chapter 1 of the IPCC AR5 Working Group 1 report. The report and images can be found online at http://www.climatechange2013.org/report/full-report/\n",
    "\n",
    "The full citation is:\n",
    "> Cubasch, U., D. Wuebbles, D. Chen, M.C. Facchini, D. Frame, N. Mahowald and J.-G. Winther, 2013: Introduction. In: Climate Change 2013: The Physical Science Basis. Contribution of Working Group I to the Fifth Assessment Report of the Intergovernmental Panel on Climate Change [Stocker, T.F., D. Qin, G.-K. Plattner, M. Tignor, S.K. Allen, J. Boschung, A. Nauels, Y. Xia, V. Bex and P.M. Midgley (eds.)]. Cambridge University Press, Cambridge, United Kingdom and New York, NY, USA, pp. 119–158, doi:10.1017/CBO9781107415324.007."
   ]
  }
 ],
 "metadata": {
  "kernelspec": {
   "display_name": "Python 3",
   "language": "python",
   "name": "python3"
  },
  "language_info": {
   "codemirror_mode": {
    "name": "ipython",
    "version": 2
   },
   "file_extension": ".py",
   "mimetype": "text/x-python",
   "name": "python",
   "nbconvert_exporter": "python",
   "pygments_lexer": "ipython2",
   "version": "2.7.13"
  }
 },
 "nbformat": 4,
 "nbformat_minor": 2
}
